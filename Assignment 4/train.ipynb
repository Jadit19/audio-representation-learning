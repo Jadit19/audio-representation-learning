{
 "cells": [
  {
   "cell_type": "code",
   "execution_count": 1,
   "metadata": {},
   "outputs": [],
   "source": [
    "import os\n",
    "import librosa\n",
    "import numpy as np\n",
    "import pickle as pkl\n",
    "import concurrent.futures\n",
    "from sklearn.metrics import accuracy_score\n",
    "from sklearn.neighbors import KNeighborsClassifier\n",
    "from sklearn.model_selection import train_test_split"
   ]
  },
  {
   "cell_type": "code",
   "execution_count": 2,
   "metadata": {},
   "outputs": [],
   "source": [
    "base_path = \"/home/adit/Downloads/archive/Data/\"\n",
    "male_audio_folder = base_path + \"Audio/Male/PTDB-TUG/\"\n",
    "male_data_folder = base_path + \"Annotation/Male/PTDB-TUG/\"\n",
    "female_audio_folder = base_path + \"Audio/Female/PTDB-TUG/\"\n",
    "female_data_folder = base_path + \"Annotation/Female/PTDB-TUG/\""
   ]
  },
  {
   "cell_type": "code",
   "execution_count": 3,
   "metadata": {},
   "outputs": [],
   "source": [
    "def get_data(file: str):\n",
    "  raw_data = []\n",
    "  \n",
    "  with open(file, 'r') as f:\n",
    "    lines = f.readlines()\n",
    "    for i in range(len(lines)):\n",
    "      data_element = []\n",
    "      if lines[i].count(\"intervals [\") > 0:\n",
    "        data_element.append(float(lines[i+1].split(\"= \")[1]))\n",
    "        data_element.append(float(lines[i+2].split(\"= \")[1]))\n",
    "        data_element.append(0 if lines[i+3].split(\"= \")[1].count(\"0\") > 0 else 1)\n",
    "        raw_data.append(data_element)\n",
    "        i += 3\n",
    "\n",
    "  processed_data = []\n",
    "  for data in raw_data:\n",
    "    start, end, value = data\n",
    "    current_start = start\n",
    "    while current_start < end:\n",
    "      current_end = min(current_start + 0.02, end)\n",
    "      if current_end != end:\n",
    "        processed_data.append([round(current_start, 3), round(current_end, 3), value])\n",
    "      current_start = current_end\n",
    "\n",
    "  return processed_data"
   ]
  },
  {
   "cell_type": "code",
   "execution_count": 4,
   "metadata": {},
   "outputs": [],
   "source": [
    "x_data = []\n",
    "y_data = []"
   ]
  },
  {
   "cell_type": "code",
   "execution_count": 5,
   "metadata": {},
   "outputs": [],
   "source": [
    "def make_dataset(audio_file: str, data_folder):\n",
    "  data_file = data_folder + audio_file.name.split(\"/\")[-1].split(\".wav\")[0] + \".TextGrid\"\n",
    "  segments = get_data(data_file)\n",
    "  \n",
    "  for segment in segments:\n",
    "    start_time, end_time, has_speech = segment\n",
    "    y, sr = librosa.load(audio_file.path, offset=start_time, duration=end_time-start_time)\n",
    "    mfccs = librosa.feature.mfcc(y=y, sr=sr, n_mfcc=13)\n",
    "    x_data.append(mfccs.T)\n",
    "    y_data.append(has_speech)"
   ]
  },
  {
   "cell_type": "code",
   "execution_count": 6,
   "metadata": {},
   "outputs": [
    {
     "name": "stderr",
     "output_type": "stream",
     "text": [
      "/home/adit/.local/lib/python3.10/site-packages/librosa/core/spectrum.py:257: UserWarning: n_fft=2048 is too large for input signal of length=441\n",
      "  warnings.warn(\n"
     ]
    },
    {
     "name": "stdout",
     "output_type": "stream",
     "text": [
      "Done male folder\n",
      "Done female folder\n"
     ]
    }
   ],
   "source": [
    "max_threads = 8\n",
    "with concurrent.futures.ThreadPoolExecutor(max_workers=max_threads) as executor:\n",
    "  futures = [executor.submit(make_dataset, audio_file, male_data_folder) for audio_file in list(os.scandir(male_audio_folder))]\n",
    "  concurrent.futures.wait(futures)\n",
    "  print(\"Done male folder\")\n",
    "with concurrent.futures.ThreadPoolExecutor(max_workers=max_threads) as executor:\n",
    "  futures = [executor.submit(make_dataset, audio_file, female_data_folder) for audio_file in list(os.scandir(female_audio_folder))]\n",
    "  concurrent.futures.wait(futures)\n",
    "  print(\"Done female folder\")"
   ]
  },
  {
   "cell_type": "code",
   "execution_count": 7,
   "metadata": {},
   "outputs": [],
   "source": [
    "x_data = np.array([_x_.flatten() for _x_ in np.array(x_data)])\n",
    "y_data = np.array(y_data)"
   ]
  },
  {
   "cell_type": "code",
   "execution_count": 8,
   "metadata": {},
   "outputs": [],
   "source": [
    "x_train, x_test, y_train, y_test = train_test_split(x_data, y_data, test_size=0.2, random_state=42)"
   ]
  },
  {
   "cell_type": "code",
   "execution_count": 9,
   "metadata": {},
   "outputs": [
    {
     "name": "stdout",
     "output_type": "stream",
     "text": [
      "[1] Accuracy: 93.39%\n",
      "[2] Accuracy: 93.00%\n",
      "[3] Accuracy: 94.47%\n",
      "[4] Accuracy: 94.47%\n",
      "[5] Accuracy: 94.85%\n",
      "[6] Accuracy: 94.88%\n",
      "[7] Accuracy: 95.00%\n",
      "[8] Accuracy: 95.02%\n",
      "[9] Accuracy: 95.07%\n",
      "[10] Accuracy: 95.08%\n",
      "[11] Accuracy: 94.97%\n",
      "[12] Accuracy: 95.10%\n",
      "[13] Accuracy: 95.01%\n",
      "[14] Accuracy: 95.09%\n",
      "[15] Accuracy: 95.10%\n",
      "[16] Accuracy: 95.13%\n",
      "[17] Accuracy: 95.14%\n",
      "[18] Accuracy: 95.11%\n",
      "[19] Accuracy: 95.14%\n",
      "[20] Accuracy: 95.19%\n",
      "[21] Accuracy: 95.16%\n",
      "[22] Accuracy: 95.13%\n",
      "[23] Accuracy: 95.13%\n",
      "[24] Accuracy: 95.16%\n",
      "[25] Accuracy: 95.16%\n",
      "[26] Accuracy: 95.18%\n",
      "[27] Accuracy: 95.15%\n",
      "[28] Accuracy: 95.19%\n",
      "[29] Accuracy: 95.15%\n"
     ]
    }
   ],
   "source": [
    "for i in range(1, 30):\n",
    "  model = KNeighborsClassifier(n_neighbors=i, p=1, weights='uniform', n_jobs=-1)\n",
    "  model.fit(x_train, y_train)\n",
    "  y_pred = model.predict(x_test)\n",
    "  accuracy = accuracy_score(y_test, y_pred)\n",
    "  print(f\"[{i}] Accuracy: {accuracy * 100:.2f}%\")\n",
    "  "
   ]
  },
  {
   "cell_type": "code",
   "execution_count": 10,
   "metadata": {},
   "outputs": [],
   "source": [
    "final_model = KNeighborsClassifier(n_neighbors=20, p=1, weights='uniform', n_jobs=-1)\n",
    "final_model.fit(x_data, y_data)\n",
    "\n",
    "with open(\"model.pkl\", \"wb\") as f:\n",
    "  pkl.dump(final_model, f)"
   ]
  }
 ],
 "metadata": {
  "kernelspec": {
   "display_name": "Python 3",
   "language": "python",
   "name": "python3"
  },
  "language_info": {
   "codemirror_mode": {
    "name": "ipython",
    "version": 3
   },
   "file_extension": ".py",
   "mimetype": "text/x-python",
   "name": "python",
   "nbconvert_exporter": "python",
   "pygments_lexer": "ipython3",
   "version": "3.10.12"
  },
  "orig_nbformat": 4
 },
 "nbformat": 4,
 "nbformat_minor": 2
}
