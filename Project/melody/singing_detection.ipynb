{
 "cells": [
  {
   "cell_type": "code",
   "execution_count": 1,
   "metadata": {},
   "outputs": [],
   "source": [
    "import warnings\n",
    "warnings.filterwarnings('ignore')"
   ]
  },
  {
   "cell_type": "code",
   "execution_count": 2,
   "metadata": {},
   "outputs": [],
   "source": [
    "import os\n",
    "import librosa\n",
    "import numpy as np\n",
    "import concurrent.futures\n",
    "\n",
    "from sklearn.metrics import accuracy_score\n",
    "from sklearn.model_selection import train_test_split"
   ]
  },
  {
   "cell_type": "code",
   "execution_count": 3,
   "metadata": {},
   "outputs": [],
   "source": [
    "dataset_path = \"/home/adit/Downloads/EE798P/Datasets/Melody Estimation/adc2004_full_set\""
   ]
  },
  {
   "cell_type": "code",
   "execution_count": 4,
   "metadata": {},
   "outputs": [],
   "source": [
    "wav_files = [dataset_path + \"/\" + f.name for f in list(os.scandir(dataset_path)) if f.name.endswith('.wav')]\n",
    "data_files = [f.replace(\".wav\", \"REF.txt\") for f in wav_files]"
   ]
  },
  {
   "cell_type": "code",
   "execution_count": 5,
   "metadata": {},
   "outputs": [],
   "source": [
    "x_data = []\n",
    "y_data = []"
   ]
  },
  {
   "cell_type": "code",
   "execution_count": 6,
   "metadata": {},
   "outputs": [],
   "source": [
    "def make_data(wav_file, data_file):\n",
    "  # Extracting the annotations\n",
    "  data = []\n",
    "  with open(data_file, 'r') as f:\n",
    "    raw_data = f.readlines()\n",
    "    for line in raw_data:\n",
    "      data.append([float(x) for x in line.strip().split()])\n",
    "  annotations = []\n",
    "  for i in range(len(data) - 1):\n",
    "    annotations.append([data[i][0], data[i+1][0], data[i][1]])\n",
    "  annotations = np.array(annotations)\n",
    "  \n",
    "  # Extracting the MFCCs\n",
    "  x_data_temp = []\n",
    "  y_data_temp = []\n",
    "  for segment in annotations:\n",
    "    start_time, end_time = segment[0], segment[1]\n",
    "    y, sr = librosa.load(wav_file, offset=start_time, duration=end_time-start_time)\n",
    "    mfcc = librosa.feature.mfcc(y=y, sr=sr, n_mfcc=13)\n",
    "    x_data_temp.append(mfcc.T)\n",
    "    y_data_temp.append(0 if int(segment[2]) == 0 else 1)\n",
    "  \n",
    "  x_data.extend(x_data_temp)\n",
    "  y_data.extend(y_data_temp)\n",
    "  \n",
    "  print(\"[INFO] Done \" + wav_file.split(\"/\")[-1])"
   ]
  },
  {
   "cell_type": "code",
   "execution_count": 7,
   "metadata": {},
   "outputs": [
    {
     "name": "stdout",
     "output_type": "stream",
     "text": [
      "[INFO] Done jazz4.wav\n",
      "[INFO] Done opera_fem4.wav\n",
      "[INFO] Done daisy4.wav\n",
      "[INFO] Done midi2.wav\n",
      "[INFO] Done daisy3.wav\n",
      "[INFO] Done midi1.wav\n",
      "[INFO] Done pop3.wav\n",
      "[INFO] Done opera_male5.wav\n",
      "[INFO] Done opera_fem2.wav\n",
      "[INFO] Done jazz3.wav\n",
      "[INFO] Done jazz2.wav\n",
      "[INFO] Done daisy2.wav\n",
      "[INFO] Done pop2.wav\n",
      "[INFO] Done daisy1.wav\n",
      "[INFO] Done pop1.wav\n",
      "[INFO] Done opera_male3.wav\n",
      "[INFO] Done midi3.wav\n",
      "[INFO] Done midi4.wav\n",
      "[INFO] Done jazz1.wav\n",
      "[INFO] Done pop4.wav\n"
     ]
    }
   ],
   "source": [
    "max_threads = 8\n",
    "with concurrent.futures.ThreadPoolExecutor(max_workers=max_threads) as executor:\n",
    "  futures = [executor.submit(make_data, wav_file, data_file) for wav_file, data_file in zip(wav_files, data_files)]\n",
    "  concurrent.futures.wait(futures)"
   ]
  },
  {
   "cell_type": "code",
   "execution_count": 8,
   "metadata": {},
   "outputs": [],
   "source": [
    "x_data = np.array([_x_.flatten() for _x_ in np.array(x_data)])\n",
    "y_data = np.array(y_data)"
   ]
  },
  {
   "cell_type": "code",
   "execution_count": 9,
   "metadata": {},
   "outputs": [],
   "source": [
    "x_train, x_test, y_train, y_test = train_test_split(x_data, y_data, test_size=0.2, random_state=42)"
   ]
  },
  {
   "cell_type": "code",
   "execution_count": 10,
   "metadata": {},
   "outputs": [],
   "source": [
    "from sklearn.ensemble import RandomForestClassifier"
   ]
  },
  {
   "cell_type": "code",
   "execution_count": 11,
   "metadata": {},
   "outputs": [
    {
     "name": "stdout",
     "output_type": "stream",
     "text": [
      "[1] Accuracy: 82.88%\n",
      "[2] Accuracy: 79.29%\n",
      "[3] Accuracy: 85.82%\n",
      "[4] Accuracy: 84.60%\n",
      "[5] Accuracy: 86.58%\n",
      "[6] Accuracy: 86.24%\n",
      "[7] Accuracy: 87.12%\n",
      "[8] Accuracy: 86.73%\n",
      "[9] Accuracy: 87.50%\n",
      "[10] Accuracy: 87.06%\n",
      "[11] Accuracy: 87.41%\n",
      "[12] Accuracy: 87.32%\n",
      "[13] Accuracy: 87.84%\n",
      "[14] Accuracy: 87.80%\n",
      "[15] Accuracy: 87.75%\n",
      "[16] Accuracy: 87.84%\n",
      "[17] Accuracy: 87.81%\n",
      "[18] Accuracy: 87.98%\n",
      "[19] Accuracy: 88.07%\n",
      "[20] Accuracy: 88.10%\n",
      "[21] Accuracy: 87.87%\n",
      "[22] Accuracy: 87.92%\n",
      "[23] Accuracy: 88.14%\n",
      "[24] Accuracy: 88.16%\n",
      "[25] Accuracy: 88.15%\n",
      "[26] Accuracy: 87.81%\n",
      "[27] Accuracy: 88.16%\n",
      "[28] Accuracy: 88.02%\n",
      "[29] Accuracy: 88.17%\n"
     ]
    }
   ],
   "source": [
    "for i in range(1, 30):\n",
    "  model = RandomForestClassifier(n_estimators=i, n_jobs=-1)\n",
    "  model.fit(x_train, y_train)\n",
    "  y_pred = model.predict(x_test)\n",
    "  accuracy = accuracy_score(y_test, y_pred)\n",
    "  print(f\"[{i}] Accuracy: {accuracy * 100:.2f}%\")"
   ]
  },
  {
   "cell_type": "code",
   "execution_count": 12,
   "metadata": {},
   "outputs": [],
   "source": [
    "from sklearn.neighbors import KNeighborsClassifier"
   ]
  },
  {
   "cell_type": "code",
   "execution_count": 13,
   "metadata": {},
   "outputs": [
    {
     "name": "stdout",
     "output_type": "stream",
     "text": [
      "[1] Accuracy: 85.78%\n",
      "[2] Accuracy: 83.48%\n",
      "[3] Accuracy: 87.18%\n",
      "[4] Accuracy: 86.17%\n",
      "[5] Accuracy: 87.84%\n",
      "[6] Accuracy: 87.33%\n",
      "[7] Accuracy: 88.06%\n",
      "[8] Accuracy: 87.83%\n",
      "[9] Accuracy: 88.23%\n",
      "[10] Accuracy: 87.73%\n",
      "[11] Accuracy: 88.14%\n",
      "[12] Accuracy: 87.92%\n",
      "[13] Accuracy: 88.36%\n",
      "[14] Accuracy: 88.28%\n",
      "[15] Accuracy: 88.29%\n",
      "[16] Accuracy: 88.15%\n",
      "[17] Accuracy: 88.19%\n",
      "[18] Accuracy: 88.18%\n",
      "[19] Accuracy: 88.40%\n",
      "[20] Accuracy: 88.39%\n",
      "[21] Accuracy: 88.43%\n",
      "[22] Accuracy: 88.43%\n",
      "[23] Accuracy: 88.46%\n",
      "[24] Accuracy: 88.47%\n",
      "[25] Accuracy: 88.45%\n",
      "[26] Accuracy: 88.46%\n",
      "[27] Accuracy: 88.44%\n",
      "[28] Accuracy: 88.47%\n",
      "[29] Accuracy: 88.53%\n"
     ]
    }
   ],
   "source": [
    "for i in range(1, 30):\n",
    "  model = KNeighborsClassifier(n_neighbors=i, p=1, weights='uniform', n_jobs=-1)\n",
    "  model.fit(x_train, y_train)\n",
    "  y_pred = model.predict(x_test)\n",
    "  accuracy = accuracy_score(y_test, y_pred)\n",
    "  print(f\"[{i}] Accuracy: {accuracy * 100:.2f}%\")"
   ]
  }
 ],
 "metadata": {
  "kernelspec": {
   "display_name": "Python 3",
   "language": "python",
   "name": "python3"
  },
  "language_info": {
   "codemirror_mode": {
    "name": "ipython",
    "version": 3
   },
   "file_extension": ".py",
   "mimetype": "text/x-python",
   "name": "python",
   "nbconvert_exporter": "python",
   "pygments_lexer": "ipython3",
   "version": "3.10.12"
  }
 },
 "nbformat": 4,
 "nbformat_minor": 2
}
